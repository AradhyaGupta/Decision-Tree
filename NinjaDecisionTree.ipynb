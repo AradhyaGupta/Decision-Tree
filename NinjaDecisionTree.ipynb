{
 "cells": [
  {
   "cell_type": "code",
   "execution_count": 79,
   "metadata": {},
   "outputs": [
    {
     "ename": "ModuleNotFoundError",
     "evalue": "No module named 'TreeNode'",
     "output_type": "error",
     "traceback": [
      "\u001b[1;31m---------------------------------------------------------------------------\u001b[0m",
      "\u001b[1;31mModuleNotFoundError\u001b[0m                       Traceback (most recent call last)",
      "\u001b[1;32m<ipython-input-79-17301df9a00e>\u001b[0m in \u001b[0;36m<module>\u001b[1;34m()\u001b[0m\n\u001b[0;32m      5\u001b[0m \u001b[1;32mimport\u001b[0m \u001b[0mos\u001b[0m\u001b[1;33m\u001b[0m\u001b[0m\n\u001b[0;32m      6\u001b[0m \u001b[1;32mimport\u001b[0m \u001b[0msys\u001b[0m\u001b[1;33m\u001b[0m\u001b[0m\n\u001b[1;32m----> 7\u001b[1;33m \u001b[1;32mimport\u001b[0m \u001b[0mTreeNode\u001b[0m\u001b[1;33m\u001b[0m\u001b[0m\n\u001b[0m",
      "\u001b[1;31mModuleNotFoundError\u001b[0m: No module named 'TreeNode'"
     ]
    }
   ],
   "source": [
    "import pandas as pd\n",
    "import numpy as np\n",
    "import math\n",
    "from underscore import _\n",
    "import os\n",
    "import sys\n",
    "import TreeNode"
   ]
  },
  {
   "cell_type": "code",
   "execution_count": null,
   "metadata": {
    "collapsed": true
   },
   "outputs": [],
   "source": [
    "class DecisionTree:\n",
    "    \n",
    "    \n",
    "    def preprocessData(self,filename):\n",
    "        data=pd.read_csv(filename, sep=\" \", header=None)\n",
    "        data.columns=['index','occupied','prices','music','location','VIP','favorite beer','Enjoy']\n",
    "        data=data[1:]\n",
    "        data=data.drop('index',axis=1)\n",
    "        data['occupied']=data['occupied'].str.replace(',','')\n",
    "        data['prices']=data['prices'].str.replace(',','')\n",
    "        data['music']=data['music'].str.replace(',','')\n",
    "        data['location']=data['location'].str.replace(',','')\n",
    "        data['VIP']=data['VIP'].str.replace(',','')\n",
    "        data['favorite beer']=data['favorite beer'].str.replace(',','')\n",
    "        data['Enjoy']=data['Enjoy'].str.replace(';','')\n",
    "        #data=data.sample(frac=1).reset_index(drop=True)\n",
    "        training_data=data[0:17]\n",
    "        attributes=list(data.columns)\n",
    "        target=attributes[-1]\n",
    "        training_data=training_data.values.tolist()\n",
    "        testingData=data.ix[17:21,0:6]\n",
    "        test_labels=data.ix[17:21,6]\n",
    "        testingData=testingData.values.tolist()\n",
    "        return training_data, testingData, attributes, target, test_labels, data\n",
    "    \n",
    "    def entropy(self,attributes, data, targetAttr):\n",
    "        valFreq = {}\n",
    "        dataEntropy = 0.0\n",
    "        #find index of the target attribute\n",
    "        i = 0\n",
    "        i=attributes.index(targetAttr)\n",
    "    \n",
    "        # Calculate the frequency of each of the values in the target attr\n",
    "        for entry in data:\n",
    "            if entry[i] in valFreq:\n",
    "                valFreq[entry[i]] += 1.0\n",
    "            else:\n",
    "                valFreq[entry[i]]  = 1.0\n",
    "\n",
    "        # Calculate the entropy of the data for the target attr\n",
    "        for freq in valFreq.values():\n",
    "            dataEntropy += (-freq/len(data)) * math.log(freq/len(data), 2) \n",
    "        \n",
    "        return dataEntropy\n",
    "    \n",
    "    def gain(self,attributes, data, attr, targetAttr):\n",
    "        \"\"\"\n",
    "        Calculates the information gain (reduction in entropy) that would\n",
    "        result by splitting the data on the chosen attribute (attr).\n",
    "        \"\"\"\n",
    "        valFreq = {}\n",
    "        subsetEntropy = 0.0\n",
    "    \n",
    "        #find index of the attribute\n",
    "        i = attributes.index(attr)\n",
    "\n",
    "        # Calculate the frequency of each of the values in the target attribute\n",
    "        for entry in data:\n",
    "            if entry[i] in valFreq:\n",
    "                valFreq[entry[i]] += 1.0\n",
    "            else:\n",
    "                valFreq[entry[i]]  = 1.0\n",
    "        # Calculate the sum of the entropy for each subset of records weighted\n",
    "        # by their probability of occuring in the training set.\n",
    "        for val in valFreq.keys():\n",
    "            valProb        = valFreq[val] / sum(valFreq.values())\n",
    "            dataSubset     = [entry for entry in data if entry[i] == val]\n",
    "            subsetEntropy += valProb * self.entropy(attributes, dataSubset, targetAttr)\n",
    "\n",
    "        # Subtract the entropy of the chosen attribute from the entropy of the\n",
    "        # whole data set with respect to the target attribute (and return it)\n",
    "        return (self.entropy(attributes, data, targetAttr) - subsetEntropy)\n",
    "    \n",
    "    def chooseAttr(self,data, attributes, target):\n",
    "        best = attributes[0]\n",
    "        maxGain = 0;\n",
    "        for attr in attributes:\n",
    "            if attr!='Enjoy':\n",
    "                newGain = self.gain(attributes, data, attr, target) \n",
    "                if newGain>maxGain:\n",
    "                    maxGain = newGain\n",
    "                    best = attr\n",
    "        return best\n",
    "\n",
    "    #get values in the column of the given attribute \n",
    "    def getValues(self,data, attributes, attr):\n",
    "        index = attributes.index(attr)\n",
    "        values = []\n",
    "        for entry in data:\n",
    "            if entry[index] not in values:\n",
    "                values.append(entry[index])\n",
    "        return values\n",
    "\n",
    "    def getExamples(self,data, attributes, best, val):\n",
    "        examples = [[]]\n",
    "        index = attributes.index(best)\n",
    "        for entry in data:\n",
    "            #find entries with the give value\n",
    "            if (entry[index] == val):\n",
    "                newEntry = []\n",
    "                #add value if it is not in best column\n",
    "                for i in range(0,len(entry)):\n",
    "                    if(i != index):\n",
    "                        newEntry.append(entry[i])\n",
    "                examples.append(newEntry)\n",
    "        examples.remove([])\n",
    "        return examples\n",
    "\n",
    "    def majority(self,data,attributes,target):\n",
    "        valFreq={}\n",
    "        index=attributes.index(target)\n",
    "        priority=['occupied','prices','music','location'\n",
    "                 ,'VIP','favorite beer','Enjoy']\n",
    "        for v in data:\n",
    "            if v[index] in valFreq:\n",
    "                valFreq[v[index]]+=1\n",
    "            else:\n",
    "                valFreq[v[index]]=1\n",
    "        maxAttr=0\n",
    "        major=\"\" \n",
    "        for key in valFreq.keys():\n",
    "            #get priority \n",
    "            if valFreq[key]>maxAttr:\n",
    "                major=key\n",
    "                maxAttr=valFreq[key]\n",
    "                \n",
    "        return major\n",
    "\n",
    "    def makeTree(self,data, attributes, target, recursion):\n",
    "        recursion+=1\n",
    "        data=data[:]\n",
    "        print('data shape {}'.format(len(data[0])))\n",
    "        vals=[record[attributes.index(target)] for record in data]\n",
    "    \n",
    "        default=self.majority(data, attributes, target)\n",
    "        if not data or len(attributes)-1 <=0:\n",
    "            return default\n",
    "        elif vals.count(vals[0])==len(vals):\n",
    "            return vals[0]\n",
    "        else:\n",
    "            best=self.chooseAttr(data, attributes, target)\n",
    "            tree= {best:{}}\n",
    "        \n",
    "            for val in self.getValues(data, attributes, best):\n",
    "                examples=self.getExamples(data,attributes, best, val)\n",
    "                newattr=attributes[:]\n",
    "                newattr.remove(best)\n",
    "                subtree=self.makeTree(examples, newattr, target, recursion)\n",
    "                tree[best][val]=subtree\n",
    "            \n",
    "        return tree\n",
    "\n",
    "    def predictOutput(self,testdata, attributes):\n",
    "        count=0\n",
    "        #print('testData {}'.format(testdata))\n",
    "        res=[]\n",
    "        for entry in testdata:\n",
    "            #print(\"***************\")\n",
    "            #print('entry = {}'.format(entry))\n",
    "            count+=1\n",
    "            #print(dict_)\n",
    "            tempD=dict_.copy()\n",
    "            #print(isinstance(tempD, dict))\n",
    "            result=\"\"\n",
    "            while isinstance(tempD, dict):\n",
    "                #print('in while loop')\n",
    "                #print(list(tempD.keys())[0])\n",
    "                #print(tempD[list(tempD.keys())[0]].values())\n",
    "                root=TreeNode.TreeNode(list(tempD.keys())[0], tempD[list(tempD.keys())[0]])\n",
    "                #root=TreeNode.TreeNode(list(tempD.keys())[0], tempD[list(tempD.keys())[0]])\n",
    "                #print('root = {}'.format(root))\n",
    "                tempD=tempD.get(list(tempD.keys())[0])\n",
    "                #print('tempD = {}'.format(tempD))\n",
    "                index=attributes.index(str(root.value))\n",
    "                #print('index={}'.format(index))\n",
    "                value=entry[index]\n",
    "                #print('value = {}'.format(value))\n",
    "                #print('tempD keys = {}'.format(tempD.keys()))\n",
    "                #print('row to predict {}'.format(entry))\n",
    "                if value in tempD.keys():\n",
    "                    child=TreeNode.TreeNode(value, tempD[value])\n",
    "                    result=tempD[value]\n",
    "                    tempD=tempD[value]\n",
    "                else:\n",
    "                    print('unable to predict')\n",
    "                    result=\"?\"\n",
    "                    break\n",
    "            print('testdate row {}, predicted class {}'.format(count, result))\n",
    "            res.append(result)"
   ]
  },
  {
   "cell_type": "code",
   "execution_count": null,
   "metadata": {
    "collapsed": true
   },
   "outputs": [],
   "source": [
    "obj=DecisionTree()\n",
    "training_data, testing_data, attributes, target, test_labels, data=obj.preprocessData(\"dt-data.txt\")"
   ]
  },
  {
   "cell_type": "code",
   "execution_count": null,
   "metadata": {
    "collapsed": true
   },
   "outputs": [],
   "source": [
    "testing_data"
   ]
  },
  {
   "cell_type": "code",
   "execution_count": null,
   "metadata": {
    "collapsed": true
   },
   "outputs": [],
   "source": [
    "test_labels"
   ]
  },
  {
   "cell_type": "code",
   "execution_count": null,
   "metadata": {
    "collapsed": true
   },
   "outputs": [],
   "source": [
    "    dict_=obj.makeTree(training_data,attributes, target,0)"
   ]
  },
  {
   "cell_type": "code",
   "execution_count": null,
   "metadata": {
    "collapsed": true
   },
   "outputs": [],
   "source": [
    "dict_"
   ]
  },
  {
   "cell_type": "code",
   "execution_count": null,
   "metadata": {
    "collapsed": true,
    "scrolled": false
   },
   "outputs": [],
   "source": [
    "obj.predictOutput(testing_data,[a for a in attributes if a!='Enjoy'])"
   ]
  },
  {
   "cell_type": "code",
   "execution_count": null,
   "metadata": {
    "collapsed": true
   },
   "outputs": [],
   "source": [
    "obj.predictOutput(training_data,[a for a in attributes if a!='Enjoy'])"
   ]
  },
  {
   "cell_type": "code",
   "execution_count": null,
   "metadata": {
    "collapsed": true
   },
   "outputs": [],
   "source": [
    "testing_data"
   ]
  },
  {
   "cell_type": "code",
   "execution_count": null,
   "metadata": {
    "collapsed": true
   },
   "outputs": [],
   "source": [
    "training_data"
   ]
  },
  {
   "cell_type": "code",
   "execution_count": null,
   "metadata": {
    "collapsed": true
   },
   "outputs": [],
   "source": []
  }
 ],
 "metadata": {
  "anaconda-cloud": {},
  "kernelspec": {
   "display_name": "Python 3",
   "language": "python",
   "name": "python3"
  },
  "language_info": {
   "codemirror_mode": {
    "name": "ipython",
    "version": 3
   },
   "file_extension": ".py",
   "mimetype": "text/x-python",
   "name": "python",
   "nbconvert_exporter": "python",
   "pygments_lexer": "ipython3",
   "version": "3.6.1"
  }
 },
 "nbformat": 4,
 "nbformat_minor": 1
}

